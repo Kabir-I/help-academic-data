{
 "cells": [
  {
   "cell_type": "code",
   "execution_count": 1,
   "id": "be2f8766",
   "metadata": {},
   "outputs": [],
   "source": [
    "import pandas as pd"
   ]
  },
  {
   "cell_type": "code",
   "execution_count": 2,
   "id": "509aa185",
   "metadata": {},
   "outputs": [],
   "source": [
    "import numpy as np"
   ]
  },
  {
   "cell_type": "code",
   "execution_count": 3,
   "id": "52089d3c",
   "metadata": {},
   "outputs": [
    {
     "name": "stdout",
     "output_type": "stream",
     "text": [
      "      A   B   C   D   E   F   G   H   I   J   K   L\n",
      "0     5  71  39  84  58  21  84  16  62  41  80  42\n",
      "1    64  83  13  62  10   7  81  33  39  97  87  97\n",
      "2    94  74  23  15  75  46  86  27  24  41  76  43\n",
      "3    88  70  63  97   4   8  63  15  98  42  15  89\n",
      "4    62  64  78  49   4  93  95  89  70  42  42  92\n",
      "..   ..  ..  ..  ..  ..  ..  ..  ..  ..  ..  ..  ..\n",
      "995  73  60   0  75  84  28  47  17  26  25  85  41\n",
      "996  74  48  42  54   9   1  65  61  53  30  72  55\n",
      "997  89  29  60   6  27  82  85  15  49  21  70  20\n",
      "998  14  30  42  41   3  88  84  87  87  36  35  75\n",
      "999  26  96  63  72  11  24  82  62   2  52  41  70\n",
      "\n",
      "[1000 rows x 12 columns]\n"
     ]
    }
   ],
   "source": [
    "df = pd.DataFrame (np.random.randint(0,100, size = (1000,12)), columns = list('ABCDEFGHIJKL')) \n",
    "print(df)"
   ]
  },
  {
   "cell_type": "code",
   "execution_count": 4,
   "id": "c15d5811",
   "metadata": {},
   "outputs": [],
   "source": [
    "file = 'Most-Recent-Cohorts-Field-of-Study.csv'"
   ]
  },
  {
   "cell_type": "code",
   "execution_count": 5,
   "id": "e359462e",
   "metadata": {},
   "outputs": [
    {
     "name": "stdout",
     "output_type": "stream",
     "text": [
      "     UNITID  OPEID6                    INSTNM CONTROL  MAIN  CIPCODE  \\\n",
      "0  100654.0    1002  Alabama A & M University  Public     1      100   \n",
      "1  100654.0    1002  Alabama A & M University  Public     1      109   \n",
      "2  100654.0    1002  Alabama A & M University  Public     1      110   \n",
      "3  100654.0    1002  Alabama A & M University  Public     1      110   \n",
      "4  100654.0    1002  Alabama A & M University  Public     1      110   \n",
      "\n",
      "                        CIPDESC  CREDLEV          CREDDESC  IPEDSCOUNT1  ...  \\\n",
      "0         Agriculture, General.        3  Bachelors Degree          NaN  ...   \n",
      "1              Animal Sciences.        3  Bachelors Degree          5.0  ...   \n",
      "2  Food Science and Technology.        3  Bachelors Degree          9.0  ...   \n",
      "3  Food Science and Technology.        5   Master's Degree          5.0  ...   \n",
      "4  Food Science and Technology.        6   Doctoral Degree          1.0  ...   \n",
      "\n",
      "   EARN_COUNT_WNE_3YR EARN_CNTOVER150_3YR EARN_COUNT_PELL_NE_3YR  \\\n",
      "0   PrivacySuppressed   PrivacySuppressed      PrivacySuppressed   \n",
      "1   PrivacySuppressed   PrivacySuppressed      PrivacySuppressed   \n",
      "2   PrivacySuppressed   PrivacySuppressed      PrivacySuppressed   \n",
      "3   PrivacySuppressed   PrivacySuppressed      PrivacySuppressed   \n",
      "4   PrivacySuppressed   PrivacySuppressed      PrivacySuppressed   \n",
      "\n",
      "  EARN_PELL_NE_MDN_3YR EARN_COUNT_NOPELL_NE_3YR EARN_NOPELL_NE_MDN_3YR  \\\n",
      "0    PrivacySuppressed        PrivacySuppressed      PrivacySuppressed   \n",
      "1    PrivacySuppressed        PrivacySuppressed      PrivacySuppressed   \n",
      "2    PrivacySuppressed        PrivacySuppressed      PrivacySuppressed   \n",
      "3    PrivacySuppressed        PrivacySuppressed      PrivacySuppressed   \n",
      "4    PrivacySuppressed        PrivacySuppressed      PrivacySuppressed   \n",
      "\n",
      "  EARN_COUNT_MALE_NE_3YR EARN_MALE_NE_MDN_3YR EARN_COUNT_NOMALE_NE_3YR  \\\n",
      "0      PrivacySuppressed    PrivacySuppressed        PrivacySuppressed   \n",
      "1      PrivacySuppressed    PrivacySuppressed        PrivacySuppressed   \n",
      "2      PrivacySuppressed    PrivacySuppressed        PrivacySuppressed   \n",
      "3      PrivacySuppressed    PrivacySuppressed        PrivacySuppressed   \n",
      "4      PrivacySuppressed    PrivacySuppressed        PrivacySuppressed   \n",
      "\n",
      "  EARN_NOMALE_NE_MDN_3YR  \n",
      "0      PrivacySuppressed  \n",
      "1      PrivacySuppressed  \n",
      "2      PrivacySuppressed  \n",
      "3      PrivacySuppressed  \n",
      "4      PrivacySuppressed  \n",
      "\n",
      "[5 rows x 121 columns]\n"
     ]
    }
   ],
   "source": [
    "df = pd.read_csv(file)\n",
    "print(df.head())"
   ]
  },
  {
   "cell_type": "code",
   "execution_count": 6,
   "id": "160503c8",
   "metadata": {},
   "outputs": [
    {
     "name": "stdout",
     "output_type": "stream",
     "text": [
      "['UNITID', 'OPEID6', 'INSTNM', 'CONTROL', 'MAIN', 'CIPCODE', 'CIPDESC', 'CREDLEV', 'CREDDESC', 'IPEDSCOUNT1', 'IPEDSCOUNT2', 'DEBT_ALL_STGP_ANY_N', 'DEBT_ALL_STGP_ANY_MEAN', 'DEBT_ALL_STGP_ANY_MDN', 'DEBT_ALL_STGP_EVAL_N', 'DEBT_ALL_STGP_EVAL_MEAN', 'DEBT_ALL_STGP_EVAL_MDN', 'DEBT_ALL_PP_ANY_N', 'DEBT_ALL_PP_ANY_MEAN', 'DEBT_ALL_PP_ANY_MDN', 'DEBT_ALL_PP_EVAL_N', 'DEBT_ALL_PP_EVAL_MEAN', 'DEBT_ALL_PP_EVAL_MDN', 'DEBT_MALE_STGP_ANY_N', 'DEBT_MALE_STGP_ANY_MEAN', 'DEBT_MALE_STGP_ANY_MDN', 'DEBT_MALE_STGP_EVAL_N', 'DEBT_MALE_STGP_EVAL_MEAN', 'DEBT_MALE_STGP_EVAL_MDN', 'DEBT_MALE_PP_ANY_N', 'DEBT_MALE_PP_ANY_MEAN', 'DEBT_MALE_PP_ANY_MDN', 'DEBT_MALE_PP_EVAL_N', 'DEBT_MALE_PP_EVAL_MEAN', 'DEBT_MALE_PP_EVAL_MDN', 'DEBT_NOTMALE_STGP_ANY_N', 'DEBT_NOTMALE_STGP_ANY_MEAN', 'DEBT_NOTMALE_STGP_ANY_MDN', 'DEBT_NOTMALE_STGP_EVAL_N', 'DEBT_NOTMALE_STGP_EVAL_MEAN', 'DEBT_NOTMALE_STGP_EVAL_MDN', 'DEBT_NOTMALE_PP_ANY_N', 'DEBT_NOTMALE_PP_ANY_MEAN', 'DEBT_NOTMALE_PP_ANY_MDN', 'DEBT_NOTMALE_PP_EVAL_N', 'DEBT_NOTMALE_PP_EVAL_MEAN', 'DEBT_NOTMALE_PP_EVAL_MDN', 'DEBT_PELL_STGP_ANY_N', 'DEBT_PELL_STGP_ANY_MEAN', 'DEBT_PELL_STGP_ANY_MDN', 'DEBT_PELL_STGP_EVAL_N', 'DEBT_PELL_STGP_EVAL_MEAN', 'DEBT_PELL_STGP_EVAL_MDN', 'DEBT_PELL_PP_ANY_N', 'DEBT_PELL_PP_ANY_MEAN', 'DEBT_PELL_PP_ANY_MDN', 'DEBT_PELL_PP_EVAL_N', 'DEBT_PELL_PP_EVAL_MEAN', 'DEBT_PELL_PP_EVAL_MDN', 'DEBT_NOPELL_STGP_ANY_N', 'DEBT_NOPELL_STGP_ANY_MEAN', 'DEBT_NOPELL_STGP_ANY_MDN', 'DEBT_NOPELL_STGP_EVAL_N', 'DEBT_NOPELL_STGP_EVAL_MEAN', 'DEBT_NOPELL_STGP_EVAL_MDN', 'DEBT_NOPELL_PP_ANY_N', 'DEBT_NOPELL_PP_ANY_MEAN', 'DEBT_NOPELL_PP_ANY_MDN', 'DEBT_NOPELL_PP_EVAL_N', 'DEBT_NOPELL_PP_EVAL_MEAN', 'DEBT_NOPELL_PP_EVAL_MDN', 'DEBT_ALL_PP_ANY_MDN10YRPAY', 'DEBT_ALL_PP_EVAL_MDN10YRPAY', 'DEBT_ALL_STGP_ANY_MDN10YRPAY', 'DEBT_ALL_STGP_EVAL_MDN10YRPAY', 'EARN_COUNT_NWNE_HI_1YR', 'EARN_CNTOVER150_HI_1YR', 'EARN_COUNT_WNE_HI_1YR', 'EARN_MDN_HI_1YR', 'EARN_COUNT_NWNE_HI_2YR', 'EARN_CNTOVER150_HI_2YR', 'EARN_COUNT_WNE_HI_2YR', 'EARN_MDN_HI_2YR', 'BBRR2_FED_COMP_N', 'BBRR2_FED_COMP_DFLT', 'BBRR2_FED_COMP_DLNQ', 'BBRR2_FED_COMP_FBR', 'BBRR2_FED_COMP_DFR', 'BBRR2_FED_COMP_NOPROG', 'BBRR2_FED_COMP_MAKEPROG', 'BBRR2_FED_COMP_PAIDINFULL', 'BBRR2_FED_COMP_DISCHARGE', 'BBRR3_FED_COMP_N', 'BBRR3_FED_COMP_DFLT', 'BBRR3_FED_COMP_DLNQ', 'BBRR3_FED_COMP_FBR', 'BBRR3_FED_COMP_DFR', 'BBRR3_FED_COMP_NOPROG', 'BBRR3_FED_COMP_MAKEPROG', 'BBRR3_FED_COMP_PAIDINFULL', 'BBRR3_FED_COMP_DISCHARGE', 'EARN_COUNT_PELL_WNE_1YR', 'EARN_PELL_WNE_MDN_1YR', 'EARN_COUNT_NOPELL_WNE_1YR', 'EARN_NOPELL_WNE_MDN_1YR', 'EARN_COUNT_MALE_WNE_1YR', 'EARN_MALE_WNE_MDN_1YR', 'EARN_COUNT_NOMALE_WNE_1YR', 'EARN_NOMALE_WNE_MDN_1YR', 'EARN_COUNT_NE_3YR', 'EARN_NE_MDN_3YR', 'EARN_COUNT_WNE_3YR', 'EARN_CNTOVER150_3YR', 'EARN_COUNT_PELL_NE_3YR', 'EARN_PELL_NE_MDN_3YR', 'EARN_COUNT_NOPELL_NE_3YR', 'EARN_NOPELL_NE_MDN_3YR', 'EARN_COUNT_MALE_NE_3YR', 'EARN_MALE_NE_MDN_3YR', 'EARN_COUNT_NOMALE_NE_3YR', 'EARN_NOMALE_NE_MDN_3YR']\n"
     ]
    }
   ],
   "source": [
    "print(list(df))"
   ]
  },
  {
   "cell_type": "code",
   "execution_count": 7,
   "id": "9044f93e",
   "metadata": {},
   "outputs": [
    {
     "name": "stdout",
     "output_type": "stream",
     "text": [
      "      Median Earnings After 3 Years    freq\n",
      "1                                 0      70\n",
      "18716                        100013       1\n",
      "14359                        100026       1\n",
      "23942                        100047       1\n",
      "25902                        100085       1\n",
      "...                             ...     ...\n",
      "19183                         99907       1\n",
      "4047                          99948       2\n",
      "26100                         99954       1\n",
      "10002                         99981       1\n",
      "0                 PrivacySuppressed  176471\n",
      "\n",
      "[29997 rows x 2 columns]\n"
     ]
    }
   ],
   "source": [
    "col = 'EARN_NE_MDN_3YR' \n",
    "col_name = 'Median Earnings After 3 Years' \n",
    "freq = df[col].value_counts().rename_axis(col_name).reset_index(name='freq')\n",
    "freq = freq.sort_values(by = col_name)\n",
    "print(freq)"
   ]
  },
  {
   "cell_type": "code",
   "execution_count": 18,
   "id": "9a547b53",
   "metadata": {},
   "outputs": [
    {
     "ename": "AttributeError",
     "evalue": "'NoneType' object has no attribute 'replace'",
     "output_type": "error",
     "traceback": [
      "\u001b[1;31m---------------------------------------------------------------------------\u001b[0m",
      "\u001b[1;31mAttributeError\u001b[0m                            Traceback (most recent call last)",
      "Input \u001b[1;32mIn [18]\u001b[0m, in \u001b[0;36m<cell line: 2>\u001b[1;34m()\u001b[0m\n\u001b[0;32m      1\u001b[0m col \u001b[38;5;241m=\u001b[39m \u001b[38;5;124m'\u001b[39m\u001b[38;5;124mEARN_NE_MDN_3YR\u001b[39m\u001b[38;5;124m'\u001b[39m\n\u001b[1;32m----> 2\u001b[0m df \u001b[38;5;241m=\u001b[39m \u001b[43mdf\u001b[49m\u001b[38;5;241;43m.\u001b[39;49m\u001b[43mreplace\u001b[49m([np\u001b[38;5;241m.\u001b[39minf, \u001b[38;5;241m-\u001b[39mnp\u001b[38;5;241m.\u001b[39minf], np\u001b[38;5;241m.\u001b[39mnan, inplace\u001b[38;5;241m=\u001b[39m\u001b[38;5;28;01mTrue\u001b[39;00m)\n\u001b[0;32m      3\u001b[0m \u001b[38;5;66;03m#df = df[df[col] != 'PrivacySuppressed']\u001b[39;00m\n\u001b[0;32m      4\u001b[0m mean \u001b[38;5;241m=\u001b[39m df[col]\u001b[38;5;241m.\u001b[39mmean()\n",
      "\u001b[1;31mAttributeError\u001b[0m: 'NoneType' object has no attribute 'replace'"
     ]
    }
   ],
   "source": [
    "col = 'EARN_NE_MDN_3YR'\n",
    "df = df.replace([np.inf, -np.inf], np.nan, inplace=True)\n",
    "#df = df[df[col] != 'PrivacySuppressed']\n",
    "mean = df[col].mean()\n",
    "med = df[col].median()\n",
    "#standev = df[col].std()\n",
    "#df = df[df[col] != 'PrivacySuppressed']\n",
    "print(mean)\n",
    "print(med)\n",
    "#print(standev)"
   ]
  },
  {
   "cell_type": "code",
   "execution_count": null,
   "id": "f231bb84",
   "metadata": {},
   "outputs": [],
   "source": []
  }
 ],
 "metadata": {
  "kernelspec": {
   "display_name": "Python 3 (ipykernel)",
   "language": "python",
   "name": "python3"
  },
  "language_info": {
   "codemirror_mode": {
    "name": "ipython",
    "version": 3
   },
   "file_extension": ".py",
   "mimetype": "text/x-python",
   "name": "python",
   "nbconvert_exporter": "python",
   "pygments_lexer": "ipython3",
   "version": "3.9.12"
  }
 },
 "nbformat": 4,
 "nbformat_minor": 5
}
